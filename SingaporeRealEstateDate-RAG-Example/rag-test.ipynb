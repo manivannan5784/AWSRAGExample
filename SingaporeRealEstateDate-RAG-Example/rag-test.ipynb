{
 "cells": [
  {
   "cell_type": "code",
   "execution_count": null,
   "id": "308477c4-67f3-45ff-9535-93de99d7d4f5",
   "metadata": {},
   "outputs": [],
   "source": [
    "###Important AWS Config Parameters"
   ]
  },
  {
   "cell_type": "code",
   "execution_count": null,
   "id": "8c5cd559-a20f-416f-94da-80fc47cbcd6e",
   "metadata": {},
   "outputs": [],
   "source": [
    "aws_profile_name=''\n",
    "aws_service_name='bedrock-runtime'\n",
    "aws_region_name=''\n",
    "opensearch_host_name = \"\" #pick this value from AWS OpenSearchConsole\n",
    "aws_embedding_model='amazon.titan-embed-text-v1'\n",
    "#aws_generation_model='meta.llama2-70b-chat-v1'\n",
    "aws_generation_model='anthropic.claude-3-sonnet-20240229-v1:0' #Genetative Model\n",
    "index_name='sgrealestate-index'"
   ]
  },
  {
   "cell_type": "markdown",
   "id": "37b4bd04-9ee9-4ff1-8290-6d7272d3e4e7",
   "metadata": {},
   "source": [
    "### Load All Required Python modules"
   ]
  },
  {
   "cell_type": "code",
   "execution_count": null,
   "id": "8d74acca-63f1-44b9-9416-23eb31470c6c",
   "metadata": {},
   "outputs": [],
   "source": [
    "from opensearchpy import OpenSearch, RequestsHttpConnection, AWSV4SignerAuth, helpers\n",
    "import boto3\n",
    "import json"
   ]
  },
  {
   "cell_type": "markdown",
   "id": "b60c4f02-d5d4-483a-a88d-b7c4f846185b",
   "metadata": {},
   "source": [
    "### Initialize AWS OpenSearch client"
   ]
  },
  {
   "cell_type": "code",
   "execution_count": null,
   "id": "ff85f63f-ed7e-48b4-9eb9-c3a6717c23a2",
   "metadata": {},
   "outputs": [],
   "source": [
    "service = \"aoss\"\n",
    "credentials = boto3.Session(profile_name=aws_profile_name).get_credentials()\n",
    "auth = AWSV4SignerAuth(credentials, aws_region_name, service)"
   ]
  },
  {
   "cell_type": "code",
   "execution_count": null,
   "id": "80559ac3-f4ba-423a-94ab-44432816829a",
   "metadata": {},
   "outputs": [],
   "source": [
    "client = OpenSearch(\n",
    "    hosts = [{\"host\": opensearch_host_name, \"port\": 443}],\n",
    "    http_auth = auth,\n",
    "    use_ssl = True,\n",
    "    verify_certs = True,\n",
    "    connection_class = RequestsHttpConnection,\n",
    "    pool_maxsize = 20\n",
    ")"
   ]
  },
  {
   "cell_type": "markdown",
   "id": "d80d8f05-3ce6-4d9f-9610-4019107af8f5",
   "metadata": {},
   "source": [
    "### Initialize AWS Bedrock Client"
   ]
  },
  {
   "cell_type": "code",
   "execution_count": null,
   "id": "6ba9bcf1-9045-4b60-9793-3e81b9bfbbee",
   "metadata": {},
   "outputs": [],
   "source": [
    "bedrock = boto3.Session(profile_name=aws_profile_name).client(\n",
    " service_name=aws_service_name,\n",
    " region_name=aws_region_name)"
   ]
  },
  {
   "cell_type": "markdown",
   "id": "2e0f471b-9b00-4a44-bd4d-31890de256d0",
   "metadata": {},
   "source": [
    "### Embedding Generation"
   ]
  },
  {
   "cell_type": "code",
   "execution_count": null,
   "id": "4c9ac7b7-0b34-49b0-8f7a-3db73c144ea7",
   "metadata": {},
   "outputs": [],
   "source": [
    "def generate_embedding(text):\n",
    "    print(\"******Passed text is\", text)\n",
    "    body=json.dumps({\"inputText\": text})\n",
    "    data_format='application/json'\n",
    "    response = bedrock.invoke_model(body=body, modelId=aws_embedding_model, accept=data_format, contentType=data_format)\n",
    "    response_body = json.loads(response.get('body').read())\n",
    "    embedding = response_body.get('embedding')\n",
    "    print(\"******Embedding response is\", embedding)\n",
    "\n",
    "    return embedding"
   ]
  },
  {
   "cell_type": "markdown",
   "id": "e5f06071-da68-492a-86b1-f0cd0d69dfe4",
   "metadata": {},
   "source": [
    "### Create the prompt"
   ]
  },
  {
   "cell_type": "code",
   "execution_count": null,
   "id": "ed8973be-e145-4898-a938-9245737a87dc",
   "metadata": {},
   "outputs": [],
   "source": [
    "prompt='which flat was sold for 400000 sgd in Ang Mo Kio. Just answer in one line?'"
   ]
  },
  {
   "cell_type": "markdown",
   "id": "a735f7cc-f3f4-42c4-90e8-555e634b0925",
   "metadata": {},
   "source": [
    "### Build context"
   ]
  },
  {
   "cell_type": "code",
   "execution_count": null,
   "id": "530c2729-7b37-431d-b84e-e5a78c7a2687",
   "metadata": {},
   "outputs": [],
   "source": [
    "def perform_knn_search_on_aws_vector_db(embedding_vector):\n",
    "    document = {\n",
    "        \"size\": 15,\n",
    "        \"_source\": {\"excludes\": [\"sg_realestate_data_vector\"]},\n",
    "        \"query\": {\n",
    "            \"knn\": {\n",
    "                 \"sg_realestate_data_vector\": {\n",
    "                     \"vector\": embedding_vector,\n",
    "                     \"k\":15\n",
    "                 }\n",
    "            }\n",
    "        }\n",
    "    }\n",
    "    response = client.search(\n",
    "    body = document,\n",
    "    index = index_name\n",
    "    )\n",
    "    return response"
   ]
  },
  {
   "cell_type": "code",
   "execution_count": null,
   "id": "6cc7a5bb-4847-46d0-bf5b-964e357e3bb8",
   "metadata": {},
   "outputs": [],
   "source": [
    "vector=generate_embedding(prompt)\n",
    "print(\"******Generated Embedding\", vector)"
   ]
  },
  {
   "cell_type": "code",
   "execution_count": null,
   "id": "dae85ee2-64fd-456e-a496-4e980ae8ba1b",
   "metadata": {},
   "outputs": [],
   "source": [
    "response=perform_knn_search_on_aws_vector_db(vector)\n",
    "data=response['hits']['hits']"
   ]
  },
  {
   "cell_type": "code",
   "execution_count": null,
   "id": "181bded2-131e-4ce3-86ca-39c6634ef53c",
   "metadata": {},
   "outputs": [],
   "source": [
    "data"
   ]
  },
  {
   "cell_type": "code",
   "execution_count": null,
   "id": "93309c90-4ce0-4c0d-88ae-ea5aea3f0860",
   "metadata": {},
   "outputs": [],
   "source": [
    "context = ''\n",
    "for item in data:\n",
    "    context += item['_source']['sg_realestate_raw_data'] + '\\n'\n",
    "print(context)"
   ]
  },
  {
   "cell_type": "code",
   "execution_count": null,
   "id": "bf3557a7-6e8b-45ed-8c97-49318e7c44d1",
   "metadata": {},
   "outputs": [],
   "source": [
    "augmented_prompt=f'Context - {context}\\nBased on the above context, answer this question - {prompt}'"
   ]
  },
  {
   "cell_type": "code",
   "execution_count": null,
   "id": "a8c6f95b-d583-45d4-9313-7a2bb862162c",
   "metadata": {},
   "outputs": [],
   "source": [
    "augmented_prompt"
   ]
  },
  {
   "cell_type": "markdown",
   "id": "2be6ce1a-572e-4883-a85f-dad571a40571",
   "metadata": {},
   "source": [
    "### Call Generation Model - Anthropic Claude3 Sonnet (on AWS Bedrock to generate output)"
   ]
  },
  {
   "cell_type": "code",
   "execution_count": null,
   "id": "ce8437d9-28f0-4fb5-87c5-0b3513afb14b",
   "metadata": {},
   "outputs": [],
   "source": [
    "response = bedrock.invoke_model(\n",
    "                modelId=aws_generation_model,\n",
    "                body=json.dumps(\n",
    "                    {\n",
    "                        \"anthropic_version\": \"bedrock-2023-05-31\",\n",
    "                        \"max_tokens\": 1024,\n",
    "                        \"messages\": [\n",
    "                            {\n",
    "                                \"role\": \"user\",\n",
    "                                \"content\": [{\"type\": \"text\", \"text\": augmented_prompt}],\n",
    "                            }\n",
    "                        ],\n",
    "                    }\n",
    "                ),\n",
    "            )\n",
    "# Process and print the response\n",
    "result = json.loads(response.get(\"body\").read())\n",
    "input_tokens = result[\"usage\"][\"input_tokens\"]\n",
    "output_tokens = result[\"usage\"][\"output_tokens\"]\n",
    "output_list = result.get(\"content\", [])\n",
    "\n",
    "response_text = \"\"\n",
    "for output in output_list:\n",
    "        response_text = response_text + output[\"text\"]\n",
    "    \n",
    "print(\"**** Final Response Received from Model is:  \",response_text)\n"
   ]
  },
  {
   "cell_type": "code",
   "execution_count": null,
   "id": "61d10ade-fdca-4152-91f2-d73c0ae2be6c",
   "metadata": {},
   "outputs": [],
   "source": []
  }
 ],
 "metadata": {
  "kernelspec": {
   "display_name": "Python 3 (ipykernel)",
   "language": "python",
   "name": "python3"
  },
  "language_info": {
   "codemirror_mode": {
    "name": "ipython",
    "version": 3
   },
   "file_extension": ".py",
   "mimetype": "text/x-python",
   "name": "python",
   "nbconvert_exporter": "python",
   "pygments_lexer": "ipython3",
   "version": "3.11.7"
  }
 },
 "nbformat": 4,
 "nbformat_minor": 5
}
