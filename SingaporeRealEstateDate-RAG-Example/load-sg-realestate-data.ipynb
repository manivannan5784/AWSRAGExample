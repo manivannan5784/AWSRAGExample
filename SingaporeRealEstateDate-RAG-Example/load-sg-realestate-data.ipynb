{
 "cells": [
  {
   "cell_type": "code",
   "execution_count": null,
   "id": "095b0aef-0a9f-4c13-9058-53ae09f1fbcb",
   "metadata": {},
   "outputs": [],
   "source": [
    "### Important Parameters for AWS Setting"
   ]
  },
  {
   "cell_type": "code",
   "execution_count": null,
   "id": "f21aa36b-40b6-4c2b-9fde-8fdc42c0182a",
   "metadata": {},
   "outputs": [],
   "source": [
    "aws_profile_name=''\n",
    "aws_service_name='bedrock-runtime'\n",
    "aws_region_name=''\n",
    "opensearch_host_name = \"\" #pick this value from AWS OpenSearchConsole\n",
    "aws_embedding_model='amazon.titan-embed-text-v1'\n",
    "index_name='sgrealestate-index'"
   ]
  },
  {
   "cell_type": "markdown",
   "id": "1f9dd36d-0ec1-4dd0-a22b-4535e7df0c1d",
   "metadata": {},
   "source": [
    "### Import Python modules"
   ]
  },
  {
   "cell_type": "code",
   "execution_count": null,
   "id": "9d1382a2-2cab-4f3e-b12f-bcc2f0549953",
   "metadata": {},
   "outputs": [],
   "source": [
    "from opensearchpy import OpenSearch, RequestsHttpConnection, AWSV4SignerAuth, helpers\n",
    "import boto3\n",
    "import json\n",
    "import pandas as pd "
   ]
  },
  {
   "cell_type": "markdown",
   "id": "0f613f58-3697-47ab-bdf9-2c682c84e742",
   "metadata": {},
   "source": [
    "### Load Singapore Real Estate Resale Flat Data (downloaded from Kaggle)"
   ]
  },
  {
   "cell_type": "code",
   "execution_count": null,
   "id": "52c44c86-a0e0-4ef0-aeb7-0371aa92619f",
   "metadata": {},
   "outputs": [],
   "source": [
    "df=pd.read_csv('./data/Singapore-RealEstate-Selective.csv')\n"
   ]
  },
  {
   "cell_type": "code",
   "execution_count": null,
   "id": "6e9e2298-cd5b-46b5-9891-61a7a226827c",
   "metadata": {},
   "outputs": [],
   "source": [
    "df"
   ]
  },
  {
   "cell_type": "code",
   "execution_count": null,
   "id": "1135acbb-816f-4c59-93e8-8559455e4ca6",
   "metadata": {},
   "outputs": [],
   "source": [
    "### Create a meaningfully derived Contextual Text for each sale line item"
   ]
  },
  {
   "cell_type": "code",
   "execution_count": null,
   "id": "c4712615-085b-4755-95dc-dc4d128cbf7d",
   "metadata": {},
   "outputs": [],
   "source": [
    "\n",
    "df['text'] = df.apply(lambda row: f'In \"{row[\"month\"]}\", in the town of \"{row[\"town\"]}\", at street of \"{row[\"street_name\"]}\", in the apartment block of \"{row[\"block\"]}\", a flat with \"{row[\"flat_type\"]}\"s and area of \"{row[\"floor_area_sqm\"]}\" square meters (located between storey \"{row[\"storey_range\"]}\") was sold for \"{row[\"resale_price\"]}\" SGD.', axis=1)\n",
    "pd.set_option('display.max_colwidth', None) #setting Jupyter console display width better printing space, nothing todo with app. \n",
    "print(df[['text']].head())  # Show only the 'text' column of the first few rows for brevity\n",
    " \n",
    " "
   ]
  },
  {
   "cell_type": "code",
   "execution_count": null,
   "id": "89ae4b4c-92c1-4f71-8b16-0a44fcd8da47",
   "metadata": {},
   "outputs": [],
   "source": [
    "bedrock = boto3.Session(profile_name=aws_profile_name).client(\n",
    " service_name=aws_service_name,\n",
    " region_name= aws_region_name)\n"
   ]
  },
  {
   "cell_type": "markdown",
   "id": "8689f157-044d-45a2-9bf4-a62bd3912bea",
   "metadata": {},
   "source": [
    "### Initialize and configure OpenSearch client"
   ]
  },
  {
   "cell_type": "code",
   "execution_count": null,
   "id": "529fb048-150b-4dc5-aba7-14e4ed5e65e7",
   "metadata": {},
   "outputs": [],
   "source": [
    "region = aws_region_name\n",
    "open_search_service = \"aoss\"\n",
    "credentials = boto3.Session(profile_name=aws_profile_name).get_credentials()\n",
    "auth = AWSV4SignerAuth(credentials, region, open_search_service)"
   ]
  },
  {
   "cell_type": "code",
   "execution_count": null,
   "id": "b31befd5-8286-437d-86a1-7a3c129c1f0d",
   "metadata": {},
   "outputs": [],
   "source": [
    "client = OpenSearch(\n",
    "    hosts = [{\"host\": opensearch_host_name, \"port\": 443}],\n",
    "    http_auth = auth,\n",
    "    use_ssl = True,\n",
    "    verify_certs = True,\n",
    "    connection_class = RequestsHttpConnection,\n",
    "    pool_maxsize = 20,\n",
    "    timeout=60\n",
    ")"
   ]
  },
  {
   "cell_type": "markdown",
   "id": "d4bd0b99-c449-4b2e-872e-73be529893d2",
   "metadata": {},
   "source": [
    "### Create Embedding Using Amazon Titan Embed Text V1 Model "
   ]
  },
  {
   "cell_type": "code",
   "execution_count": null,
   "id": "49045caf-b771-4847-b8d7-afc29234d94d",
   "metadata": {},
   "outputs": [],
   "source": [
    "def generate_embedding(text):\n",
    "    print(\"******Passed text is\", text)\n",
    "    body=json.dumps({\"inputText\": text})\n",
    "    data_format='application/json'\n",
    "    response = bedrock.invoke_model(body=body, modelId=aws_embedding_model, accept=data_format, contentType=data_format)\n",
    "    response_body = json.loads(response.get('body').read())\n",
    "    embedding = response_body.get('embedding')\n",
    "    print(\"******Embedding response is\", embedding)\n",
    "\n",
    "    return embedding"
   ]
  },
  {
   "cell_type": "code",
   "execution_count": null,
   "id": "21450fa0-a205-4610-8a0f-18ce017747da",
   "metadata": {
    "scrolled": true
   },
   "outputs": [],
   "source": [
    "df=df.assign(embedding=(df[\"text\"].apply(lambda x : generate_embedding(x))))"
   ]
  },
  {
   "cell_type": "markdown",
   "id": "b0d7bc47-d053-46c5-8f20-31dc0979f69a",
   "metadata": {},
   "source": [
    "### Ingest the embedding into AWS OpenSearch Vector DB"
   ]
  },
  {
   "cell_type": "code",
   "execution_count": null,
   "id": "b79bae4e-72aa-40e0-a3c2-6ebd54d54c1b",
   "metadata": {},
   "outputs": [],
   "source": [
    "def ingest_data_into_aws_opensearch(embedded_data,raw_data):\n",
    "    document = {\n",
    "      \"sg_realestate_data_vector\": embedded_data,\n",
    "      \"sg_realestate_raw_data\": raw_data\n",
    "    }\n",
    "    \n",
    "    response = client.index(\n",
    "        index = index_name,\n",
    "        body = document\n",
    "    )\n",
    "    print('\\nIngesting Data into AWS OpenSearch. Response:',response)"
   ]
  },
  {
   "cell_type": "code",
   "execution_count": null,
   "id": "39cfd9ec-6863-4be6-8a9f-0b2f79446917",
   "metadata": {},
   "outputs": [],
   "source": []
  },
  {
   "cell_type": "code",
   "execution_count": null,
   "id": "33aff9d1-bcb2-4851-ba03-3448c14cd7a0",
   "metadata": {},
   "outputs": [],
   "source": [
    "df.apply(lambda row: ingest_data_into_aws_opensearch(row['embedding'], row['text']), axis=1)"
   ]
  },
  {
   "cell_type": "markdown",
   "id": "46b47838-9581-4b99-8974-0da6f7fc48ad",
   "metadata": {},
   "source": [
    "### Semantic Search - KNN search over Index of AWS OpenSearch DB"
   ]
  },
  {
   "cell_type": "code",
   "execution_count": null,
   "id": "1ccd5976-fe01-41f9-b968-2d8874deae11",
   "metadata": {},
   "outputs": [],
   "source": [
    "def perform_knn_search_on_aws_vector_db(embedding_vector):\n",
    "    document = {\n",
    "        \"size\": 15,\n",
    "        \"_source\": {\"excludes\": [\"sg_realestate_data_vector\"]},\n",
    "        \"query\": {\n",
    "            \"knn\": {\n",
    "                 \"sg_realestate_data_vector\": {\n",
    "                     \"vector\": embedding_vector,\n",
    "                     \"k\":15\n",
    "                 }\n",
    "            }\n",
    "        }\n",
    "    }\n",
    "    response = client.search(\n",
    "    body = document,\n",
    "    index = index_name\n",
    "    )\n",
    "    return response"
   ]
  },
  {
   "cell_type": "code",
   "execution_count": null,
   "id": "60cb1601-9fcb-41cf-bbf3-26cb7eda5dbc",
   "metadata": {},
   "outputs": [],
   "source": [
    "query='any flat was sold for 400000 sgd'\n",
    "vector=generate_embedding(query)\n",
    "print(\"******Vector\", vector)"
   ]
  },
  {
   "cell_type": "code",
   "execution_count": null,
   "id": "f16f1650-082c-42cd-a85f-ac21a3e2f100",
   "metadata": {
    "scrolled": true
   },
   "outputs": [],
   "source": [
    "response=perform_knn_search_on_aws_vector_db(vector)\n",
    "print(\"****Actual Response\", response)\n",
    "data=response['hits']['hits']\n",
    "print(data)"
   ]
  },
  {
   "cell_type": "code",
   "execution_count": null,
   "id": "bed01117-99b2-4f86-87d0-c4f54f72c210",
   "metadata": {},
   "outputs": [],
   "source": [
    "data"
   ]
  }
 ],
 "metadata": {
  "kernelspec": {
   "display_name": "Python 3 (ipykernel)",
   "language": "python",
   "name": "python3"
  },
  "language_info": {
   "codemirror_mode": {
    "name": "ipython",
    "version": 3
   },
   "file_extension": ".py",
   "mimetype": "text/x-python",
   "name": "python",
   "nbconvert_exporter": "python",
   "pygments_lexer": "ipython3",
   "version": "3.11.7"
  }
 },
 "nbformat": 4,
 "nbformat_minor": 5
}
