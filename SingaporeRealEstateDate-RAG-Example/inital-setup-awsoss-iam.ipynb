{
 "cells": [
  {
   "cell_type": "code",
   "execution_count": null,
   "id": "2834b1e5-18db-421d-9c28-4459b7deac51",
   "metadata": {},
   "outputs": [],
   "source": [
    "### Important Parameters for AWS Setting"
   ]
  },
  {
   "cell_type": "code",
   "execution_count": null,
   "id": "c1113cc3-714d-48e3-a370-e50058f172f4",
   "metadata": {},
   "outputs": [],
   "source": [
    "#AWS Related Parameters. \n",
    "aws_profile_name='' #configure your AWS local profile name\n",
    "aws_service_name='bedrock-runtime' #bedrock runtime service\n",
    "aws_region_name=''  #region name\n",
    "opensearch_host_name = \"\" #pick this value from AWS OpenSearchConsole\n",
    "aws_embedding_model='amazon.titan-embed-text-v1' #embedding model used\n",
    "\n",
    "#OpenSearch Related Parameters\n",
    "index_name='sgrealestate-index'"
   ]
  },
  {
   "cell_type": "markdown",
   "id": "f2f212fe-4bf9-4c29-8a84-75cb6c402626",
   "metadata": {},
   "source": [
    "### Import Python modules"
   ]
  },
  {
   "cell_type": "code",
   "execution_count": null,
   "id": "0a88fee5-3c42-4cac-a09d-b3c17b25d563",
   "metadata": {},
   "outputs": [],
   "source": [
    "from opensearchpy import OpenSearch, RequestsHttpConnection, AWSV4SignerAuth, helpers\n",
    "import boto3\n",
    "from botocore.config import Config\n",
    "import json"
   ]
  },
  {
   "cell_type": "markdown",
   "id": "2751565d-7c5c-4c98-a61c-a2f8760e94c3",
   "metadata": {},
   "source": [
    "### Create AWS Opensearch Client using Boto3"
   ]
  },
  {
   "cell_type": "code",
   "execution_count": null,
   "id": "73184103-9450-4fdc-b103-2b456c117b44",
   "metadata": {},
   "outputs": [],
   "source": [
    "boto_config = Config(\n",
    "    region_name = aws_region_name,\n",
    "    signature_version = 'v4',\n",
    "    retries = {\n",
    "        'max_attempts': 10,\n",
    "        'mode': 'standard'\n",
    "    }\n",
    ")"
   ]
  },
  {
   "cell_type": "code",
   "execution_count": null,
   "id": "49fc2982-a603-4eba-bd04-0463ceae5347",
   "metadata": {},
   "outputs": [],
   "source": [
    "client = boto3.Session(profile_name=aws_profile_name).client(\"opensearchserverless\",config=boto_config)"
   ]
  },
  {
   "cell_type": "markdown",
   "id": "b66640e6-244c-4cc4-aca9-8c16258a74da",
   "metadata": {},
   "source": [
    "### Define encryption policy"
   ]
  },
  {
   "cell_type": "code",
   "execution_count": null,
   "id": "cd232377-a126-4260-88d9-4087ffaff352",
   "metadata": {},
   "outputs": [],
   "source": [
    "policy = \"\"\"{\n",
    "                \"Rules\": [\n",
    "                    {\n",
    "                        \"Resource\": [\n",
    "                            \"collection/sgrealestate-collection\"\n",
    "                        ],\n",
    "                        \"ResourceType\": \"collection\"\n",
    "                    }\n",
    "                ],\n",
    "                \"AWSOwnedKey\": true\n",
    "            }\"\"\"\n",
    "\n",
    "try:\n",
    "    response = client.create_security_policy(\n",
    "        description=\"Singapore RealEstate Sale Data security policy\",\n",
    "        name=\"sgrealestate-data-encrptpolicy\",\n",
    "        policy=policy,\n",
    "        type=\"encryption\",\n",
    "    )\n",
    "    print(json.dumps(response, indent=2))\n",
    "except Exception as ex:\n",
    "    print(ex)"
   ]
  },
  {
   "cell_type": "markdown",
   "id": "3e438891-df7c-400f-87ce-e8579aa1c931",
   "metadata": {},
   "source": [
    "### Define network policy"
   ]
  },
  {
   "cell_type": "code",
   "execution_count": null,
   "id": "73633a7a-7f0a-4c04-8de0-fc5baf548033",
   "metadata": {},
   "outputs": [],
   "source": [
    "policy = \"\"\"[\n",
    "                {\n",
    "                    \"Rules\": [\n",
    "                        {\n",
    "                            \"Resource\": [\n",
    "                                \"collection/sgrealestate-collection\"\n",
    "                            ],\n",
    "                            \"ResourceType\": \"collection\"\n",
    "                        }\n",
    "                    ],\n",
    "                    \"AllowFromPublic\": true\n",
    "                }\n",
    "            ]\"\"\"\n",
    "\n",
    "try:\n",
    "    response = client.create_security_policy(\n",
    "        description=\"Singapore RealEstate Network Policy\",\n",
    "        name=\"sgrealestate-nw-encrptpolicy\",\n",
    "        policy=policy,\n",
    "        type=\"network\",\n",
    "    )\n",
    "    print(json.dumps(response, indent=2))\n",
    "except Exception as ex:\n",
    "    print(ex)"
   ]
  },
  {
   "cell_type": "markdown",
   "id": "ade6a6dd-77e6-4d5a-96cb-6b31321276c8",
   "metadata": {},
   "source": [
    "### Define data access policy"
   ]
  },
  {
   "cell_type": "code",
   "execution_count": null,
   "id": "317ea3fa-2c79-4a62-9905-224ad076182b",
   "metadata": {},
   "outputs": [],
   "source": [
    "#Put your own  IAM principle ARN\n",
    "policy = \"\"\"[\n",
    "                {\n",
    "                    \"Rules\": [\n",
    "                        {\n",
    "                            \"Resource\": [\n",
    "                                \"collection/*\"\n",
    "                            ],\n",
    "                            \"Permission\": [\n",
    "                                \"aoss:*\"\n",
    "                            ],\n",
    "                            \"ResourceType\": \"collection\"\n",
    "                        },\n",
    "                        {\n",
    "                            \"Resource\": [\n",
    "                                \"index/*/*\"\n",
    "                            ],\n",
    "                            \"Permission\": [\n",
    "                                \"aoss:*\"\n",
    "                            ],\n",
    "                            \"ResourceType\": \"index\"\n",
    "                        }\n",
    "                    ],\n",
    "                    \"Principal\": [\n",
    "                        \"your_arn_principal\" \n",
    "                    ],\n",
    "                    \"Description\": \"Rule 1\"\n",
    "                }\n",
    "            ]\"\"\"\n",
    "\n",
    "try:\n",
    "    response = client.create_access_policy(\n",
    "        description=\"Singapore RealEstate Data Access Policy\",\n",
    "        name=\"sgrealestate-data-accesspolicy\",\n",
    "        policy=policy,\n",
    "        type=\"data\"\n",
    "    )\n",
    "    print(json.dumps(response, indent=2))\n",
    "except Exception as ex:\n",
    "    print(ex)"
   ]
  },
  {
   "cell_type": "markdown",
   "id": "f3408294-64bc-419c-b28c-55c44db2e62b",
   "metadata": {},
   "source": [
    "### Create the collection"
   ]
  },
  {
   "cell_type": "code",
   "execution_count": null,
   "id": "39987da0-87ae-4a92-81ac-104edc674f37",
   "metadata": {},
   "outputs": [],
   "source": [
    "# create vector search collection\n",
    "try:\n",
    "    response = client.create_collection(\n",
    "        description=\"SG RealEstate Data collection\",\n",
    "        name=\"sgrealestate-collection\",\n",
    "        type=\"VECTORSEARCH\"\n",
    "    )\n",
    "    print(json.dumps(response, indent=2))\n",
    "except Exception as ex:\n",
    "    print(ex) "
   ]
  },
  {
   "cell_type": "markdown",
   "id": "21f14370-327e-4293-a2a6-5287cbffc8b1",
   "metadata": {},
   "source": [
    "### Launch OpenSearch Client to Create the elements "
   ]
  },
  {
   "cell_type": "code",
   "execution_count": null,
   "id": "84a14aa3-8958-4be8-89d6-332c56ebb8c5",
   "metadata": {},
   "outputs": [],
   "source": [
    "service = \"aoss\"\n",
    "credentials = boto3.Session(profile_name=aws_profile_name).get_credentials()\n",
    "auth = AWSV4SignerAuth(credentials, aws_region_name, service)\n",
    "print(auth)"
   ]
  },
  {
   "cell_type": "code",
   "execution_count": null,
   "id": "6aeffc00-85ea-40dc-be93-0120632c42c4",
   "metadata": {},
   "outputs": [],
   "source": [
    "client = OpenSearch(\n",
    "    hosts = [{\"host\": opensearch_host_name, \"port\": 443}],\n",
    "    http_auth = auth,\n",
    "    use_ssl = True,\n",
    "    verify_certs = True,\n",
    "    connection_class = RequestsHttpConnection,\n",
    "    pool_maxsize = 20\n",
    ")"
   ]
  },
  {
   "cell_type": "markdown",
   "id": "e9b2e5cb-faac-4d04-bb90-4bc718ce2083",
   "metadata": {},
   "source": [
    "### Setup Index on OpenSearch Serverless"
   ]
  },
  {
   "cell_type": "code",
   "execution_count": null,
   "id": "96d94671-d770-4faa-a393-4b0e8ffb4185",
   "metadata": {},
   "outputs": [],
   "source": [
    "#1536 is dimension type of AWS Titan Embedding Model\n",
    "index_body = {\n",
    "    \"mappings\": {\n",
    "        \"properties\": {\n",
    "            \"sg_realestate_raw_data\": {\"type\": \"text\"},\n",
    "            \"sg_realestate_data_vector\": {\n",
    "                \"type\": \"knn_vector\",\n",
    "                \"dimension\": 1536,\n",
    "                \"method\": {\n",
    "                    \"engine\": \"nmslib\",\n",
    "                    \"space_type\": \"cosinesimil\",\n",
    "                    \"name\": \"hnsw\",\n",
    "                    \"parameters\": {\"ef_construction\": 512, \"m\": 16},\n",
    "                },\n",
    "            },\n",
    "        }\n",
    "    },\n",
    "    \"settings\": {\n",
    "        \"index\": {\n",
    "            \"number_of_shards\": 2,\n",
    "            \"knn.algo_param\": {\"ef_search\": 512},\n",
    "            \"knn\": True,\n",
    "        }\n",
    "    },\n",
    "}\n",
    "\n",
    "try:\n",
    "    response = client.indices.create(index_name, body=index_body)\n",
    "    print(json.dumps(response, indent=2))\n",
    "except Exception as ex:\n",
    "    print(ex)"
   ]
  },
  {
   "cell_type": "markdown",
   "id": "b5b32da7-12f4-4923-9796-deab250dc7ae",
   "metadata": {},
   "source": [
    "### Verify the index"
   ]
  },
  {
   "cell_type": "code",
   "execution_count": null,
   "id": "06e76824-4aa1-47a3-996a-c12d9bba2c5f",
   "metadata": {},
   "outputs": [],
   "source": [
    "try:\n",
    "    response = client.indices.get(index_name)\n",
    "    print(json.dumps(response, indent=2))\n",
    "except Exception as ex:\n",
    "    print(ex)"
   ]
  },
  {
   "cell_type": "code",
   "execution_count": null,
   "id": "38a474fe-bfc4-44f7-a714-af9948f172fe",
   "metadata": {},
   "outputs": [],
   "source": []
  }
 ],
 "metadata": {
  "kernelspec": {
   "display_name": "Python 3 (ipykernel)",
   "language": "python",
   "name": "python3"
  },
  "language_info": {
   "codemirror_mode": {
    "name": "ipython",
    "version": 3
   },
   "file_extension": ".py",
   "mimetype": "text/x-python",
   "name": "python",
   "nbconvert_exporter": "python",
   "pygments_lexer": "ipython3",
   "version": "3.11.7"
  }
 },
 "nbformat": 4,
 "nbformat_minor": 5
}
